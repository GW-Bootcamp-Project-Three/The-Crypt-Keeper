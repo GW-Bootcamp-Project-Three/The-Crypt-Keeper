{
 "cells": [
  {
   "cell_type": "code",
   "execution_count": null,
   "metadata": {},
   "outputs": [],
   "source": [
    "import pandas as pd\n",
    "import requests\n",
    "from tkinter import *\n",
    "from splinter import Browser\n",
    "from bs4 import BeautifulSoup\n",
    "from webdriver_manager.chrome import ChromeDriverManager\n",
    "import time"
   ]
  },
  {
   "cell_type": "code",
   "execution_count": null,
   "metadata": {},
   "outputs": [],
   "source": [
    "#Setup splinter\n",
    "executable_path = {'executable_path': ChromeDriverManager().install()}\n",
    "browser = Browser('chrome', **executable_path, headless=False)"
   ]
  },
  {
   "cell_type": "code",
   "execution_count": null,
   "metadata": {},
   "outputs": [],
   "source": [
    "#Establish URL\n",
    "url = 'https://coinmarketcap.com/'"
   ]
  },
  {
   "cell_type": "code",
   "execution_count": null,
   "metadata": {},
   "outputs": [],
   "source": [
    "#Say Hi to the URL\n",
    "browser.visit(url)"
   ]
  },
  {
   "cell_type": "code",
   "execution_count": null,
   "metadata": {},
   "outputs": [],
   "source": [
    "tokens = []\n",
    "\n",
    "for i in range(1, 4, 1):\n",
    "    loop_url = f'https://coinmarketcap.com/?page={i}'\n",
    "    browser.visit(loop_url)\n",
    "    \n",
    "    for j in range(10):\n",
    "        browser.execute_script(\"window.scrollBy(0,1000);\")\n",
    "        time.sleep(.5)\n",
    "        \n",
    "    html = browser.html\n",
    "    \n",
    "    soup = BeautifulSoup(html, 'html.parser')\n",
    "    \n",
    "    table = soup.find('table', class_='cmc-table')\n",
    "    trs = table.find_all('tr')\n",
    "    \n",
    "    print(f'********Page: {i}')\n",
    "\n",
    "    for tr in trs:\n",
    "\n",
    "        token = {}\n",
    "\n",
    "        tds = tr.find_all('td')\n",
    "        \n",
    "        try:\n",
    "            if tds[2].p is not None:\n",
    "                coin_name = tds[2].p.text\n",
    "                coin_code = tds[2].div.div.div.p.text\n",
    "            else:\n",
    "                coin_name = tds[2].find_all('span')[1].text\n",
    "                coin_code = tds[2].find_all('span')[2].text\n",
    "\n",
    "            coin_price = tds[3].text.replace(',','').strip('$')\n",
    "            coin_24h = tds[4].text.strip('%')\n",
    "            coin_7d = tds[5].text.strip('%')\n",
    "            coin_market_cap = tds[6].text.replace(',','').strip('$')\n",
    "            coin_volume_usd = tds[7].find_all('p')[0].text.replace(',','').strip('$')\n",
    "            coin_volume_crypto_list = tds[7].find_all('p')[1].text.replace(',','').strip('$').split()\n",
    "            coin_volume = coin_volume_crypto_list[0]\n",
    "            coin_volume_token = coin_volume_crypto_list[1]\n",
    "            coin_circulating_supply_list = tds[8].text.replace(',','').strip('$').split()\n",
    "            coin_circulating_supply = coin_circulating_supply_list[0]\n",
    "            coin_circulating_supply_token = coin_circulating_supply_list[1]\n",
    "\n",
    "            # set up dictionary record\n",
    "            token['token'] = coin_code\n",
    "            token['name'] = coin_name\n",
    "            token['price'] = coin_price\n",
    "            token['24h'] = coin_24h\n",
    "            token['7d'] = coin_7d\n",
    "            token['market_cap'] = coin_market_cap\n",
    "            token['volume_usd'] = coin_volume_usd\n",
    "            token['volume'] = coin_volume\n",
    "            token['circulating_supply'] = coin_circulating_supply\n",
    "\n",
    "            # add to the list of dictionaries\n",
    "            tokens.append(token)\n",
    "\n",
    "        except Exception as e:\n",
    "            i = trs.index(tr)\n",
    "            print(f'Error with index [{i}] of the tr.')\n",
    "            continue\n",
    "            \n",
    "browser.quit()"
   ]
  },
  {
   "cell_type": "code",
   "execution_count": null,
   "metadata": {},
   "outputs": [],
   "source": [
    "#Create DataFrame\n",
    "token = pd.DataFrame(tokens)\n",
    "token"
   ]
  },
  {
   "cell_type": "code",
   "execution_count": null,
   "metadata": {},
   "outputs": [],
   "source": [
    "#Extract Master array of NAMES ONLY for all Cryptos\n",
    "coins = token['name'].values\n",
    "#coins"
   ]
  },
  {
   "cell_type": "markdown",
   "metadata": {},
   "source": [
    "<h1>Query<h1>"
   ]
  },
  {
   "cell_type": "code",
   "execution_count": null,
   "metadata": {},
   "outputs": [],
   "source": [
    "#Setting Up Drop Down Function\n",
    "root = Tk()\n",
    "root.geometry( \"200x200\" )\n",
    "def show():\n",
    "    label.config( text = clicked.get() )\n",
    "    \n",
    "options = coins\n",
    "clicked = StringVar()\n",
    "clicked.set('Click Me!')\n",
    "\n",
    "drop = OptionMenu( root, clicked, *options)\n",
    "drop.pack()\n",
    "\n",
    "button = Button(root, text = 'Select This Coin?', command =show).pack()\n",
    "\n",
    "label= Label(root, text = \" \")\n",
    "label.pack()\n",
    "\n",
    "root.mainloop()\n",
    "\n",
    "content = clicked.get()\n",
    "#content\n",
    "crypto = content\n",
    "crypto\n",
    "\n",
    "#Don't Forget to 'x' out of the prompt!"
   ]
  },
  {
   "cell_type": "code",
   "execution_count": null,
   "metadata": {},
   "outputs": [],
   "source": [
    "#FORMAT QUERY\n",
    "lowercase = str.lower(crypto)\n",
    "formed = lowercase.replace(\" \",\"-\")\n",
    "#formed\n",
    "exchange = f'https://www.coindesk.com/price/{formed}'\n",
    "#exchange"
   ]
  },
  {
   "cell_type": "markdown",
   "metadata": {},
   "source": [
    "<h1>CoinDesk | First Test<h1>"
   ]
  },
  {
   "cell_type": "code",
   "execution_count": null,
   "metadata": {},
   "outputs": [],
   "source": [
    "#Stir the pot\n",
    "# trade = requests.get(exchange)\n",
    "# soup = BeautifulSoup(trade.text, 'html.parser')\n",
    "# soup"
   ]
  },
  {
   "cell_type": "code",
   "execution_count": null,
   "metadata": {},
   "outputs": [],
   "source": [
    "#You Spin My Head Right Round\n",
    "# Title = ''\n",
    "# Price = ''\n",
    "# Change24 = ''\n",
    "# MarketCap = ''\n",
    "# Volume = ''\n",
    "# Low24 = ''\n",
    "# High24 = ''\n",
    "# NetChange = ''\n",
    "# Open24 = ''\n",
    "# AllTimeHigh = ''\n",
    "# TotalSupply= ''\n",
    "# Returns24 = ''\n",
    "# ReturnsYTD = ''\n",
    "# Volatility30Day = ''\n",
    "# TransactionCount24 = ''\n",
    "# AvgTransFee24 = ''\n",
    "# ValueTransferred24 = ''\n",
    "# About = ''\n",
    "# try:\n",
    "#     Title = soup.select('div.coin-title .heading')[0].text\n",
    "#     Price = soup.select('div.coin-info-block .data-definition')[0].text\n",
    "#     Change24 = soup.select('div.coin-info-block .data-definition')[1].text\n",
    "#     MarketCap = soup.select('div.coin-info-block .data-definition')[2].text\n",
    "#     Volume = soup.select('div.coin-info-block .data-definition')[3].text\n",
    "#     Low24 = soup.select('div.coin-info-block .data-definition')[4].text\n",
    "#     High24 = soup.select('div.coin-info-block .data-definition')[5].text\n",
    "#     Open24 = soup.select('div.coin-info-block .data-definition')[6].text\n",
    "#     Open24 = soup.select('div.coin-info-block .data-definition')[7].text \n",
    "#     AllTimeHigh = soup.select('div.coin-info-block .data-definition')[8].text\n",
    "#     TotalSupply= soup.select('div.coin-info-block .data-definition')[9].text\n",
    "#     Returns24 = soup.select('div.coin-info-block .data-definition')[10].text\n",
    "#     ReturnsYTD = soup.select('div.coin-info-block .data-definition')[11].text\n",
    "#     Volatility30Day = soup.select('div.coin-info-block .data-definition')[12].text\n",
    "#     TransactionCount24 = soup.select('div.coin-info-block .data-definition')[13].text\n",
    "#     AvgTransFee24 = soup.select('div.coin-info-block .data-definition')[14].text\n",
    "#     ValueTransferred24 = soup.select('div.coin-info-block .data-definition')[15].text\n",
    "#     About = soup.select('div.coin-about-text')[0].text\n",
    "# except:\n",
    "#     print('Crypto Not Found')"
   ]
  },
  {
   "cell_type": "code",
   "execution_count": null,
   "metadata": {},
   "outputs": [],
   "source": [
    "#DUMP IT ALL\n",
    "# print(f'---------------{Title}--------------------')\n",
    "# print(f'Price : {Price}')\n",
    "# print(f'24hr % Change : {Change24}')\n",
    "# print(f'Market Cap : {MarketCap}')\n",
    "# print(f'24hr Volume : {Volume}')\n",
    "# print(f'24hr Low : {Low24}')\n",
    "# print(f'24hr High : {High24}')\n",
    "# print(f'Net Change : {NetChange}')\n",
    "# print('---------------Metrics--------------------')\n",
    "# print(f'24hr Open : {Open24}')\n",
    "# print(f'All Time High : {AllTimeHigh}')\n",
    "# print(f'Total Supply : {TotalSupply}')\n",
    "# print(f'24hr Returns : {Returns24}')\n",
    "# print(f'Year To Date Returns : {ReturnsYTD}')\n",
    "# print(f'30 Day Volatility : {Volatility30Day}')\n",
    "# print(f'24hr Transaction Count : {TransactionCount24}')\n",
    "# print(f'24hr Average Transaction Fee {AvgTransFee24}')\n",
    "# print(f'24hr Value Transacted : {ValueTransferred24}')\n",
    "# print('---------------About--------------------')\n",
    "# print(About)\n",
    "# print('---------------Source--------------------')\n",
    "# print(exchange)"
   ]
  },
  {
   "cell_type": "markdown",
   "metadata": {},
   "source": [
    "<h1>CoinMarketCap | More Reliable<h1>"
   ]
  },
  {
   "cell_type": "code",
   "execution_count": null,
   "metadata": {},
   "outputs": [],
   "source": [
    "#COINMARKET PULL (BETTER SUCCESS)\n",
    "wall_street = f'https://coinmarketcap.com/currencies/{formed}/'\n",
    "print(wall_street)"
   ]
  },
  {
   "cell_type": "code",
   "execution_count": null,
   "metadata": {},
   "outputs": [],
   "source": [
    "#Stir the pot\n",
    "call = requests.get(wall_street)\n",
    "chowder = BeautifulSoup(call.text, 'html.parser')\n",
    "chowder"
   ]
  },
  {
   "cell_type": "code",
   "execution_count": null,
   "metadata": {},
   "outputs": [],
   "source": [
    "#You Spin My Head Right Round\n",
    "Title = ''\n",
    "Price = ''\n",
    "Change24 = ''\n",
    "MarketCap = ''\n",
    "Volume = ''\n",
    "Low24 = ''\n",
    "About = ''\n",
    "try:\n",
    "    Title = chowder.select('small.nameSymbol___1arQV')[0].text\n",
    "    Price = chowder.select('div.priceValue___11gHJ')[0].text\n",
    "    Change24 = chowder.select('.sc-1v2ivon-0')[0].text\n",
    "    MarketCap = chowder.select('div.statsValue___2iaoZ')[0].text\n",
    "    Volume = chowder.select('div.statsValue___2iaoZ')[2].text\n",
    "    Low24 = chowder.select('.highLowValue___GfyK7')[0].text\n",
    "    High24 = chowder.select('.highLowValue___GfyK7')[1].text\n",
    "    About = chowder.select('div.about___1OuKY')[0].text\n",
    "except:\n",
    "    print('Crypto Not Found')"
   ]
  },
  {
   "cell_type": "code",
   "execution_count": null,
   "metadata": {},
   "outputs": [],
   "source": [
    "#DUMP IT ALL\n",
    "print(f'---------------{Title}--------------------')\n",
    "print(f'Price : {Price}')\n",
    "print(f'24hr % Change : {Change24}')\n",
    "print(f'Market Cap : {MarketCap}')\n",
    "print(f'24hr Volume : {Volume}')\n",
    "print(f'24hr Low : {Low24}')\n",
    "print(f'24hr High : {High24}')\n",
    "print('---------------About--------------------')\n",
    "print(About)\n",
    "print('---------------Source--------------------')\n",
    "print(wall_street)"
   ]
  },
  {
   "cell_type": "code",
   "execution_count": null,
   "metadata": {},
   "outputs": [],
   "source": [
    "#LOGO PHOTO\n",
    "code = str.lower(Title)\n",
    "snap = f'https://cryptologos.cc/logos/{formed}-{code}-logo.png?v=010'\n",
    "print(snap)"
   ]
  },
  {
   "cell_type": "code",
   "execution_count": null,
   "metadata": {},
   "outputs": [],
   "source": [
    "#TO BE CONTINUED -- History Scrape\n",
    "history = f'https://coinmarketcap.com/currencies/{formed}/historical-data/'\n",
    "#history"
   ]
  },
  {
   "cell_type": "code",
   "execution_count": null,
   "metadata": {},
   "outputs": [],
   "source": []
  }
 ],
 "metadata": {
  "kernelspec": {
   "display_name": "Python 3",
   "language": "python",
   "name": "python3"
  },
  "language_info": {
   "codemirror_mode": {
    "name": "ipython",
    "version": 3
   },
   "file_extension": ".py",
   "mimetype": "text/x-python",
   "name": "python",
   "nbconvert_exporter": "python",
   "pygments_lexer": "ipython3",
   "version": "3.8.3"
  }
 },
 "nbformat": 4,
 "nbformat_minor": 4
}
