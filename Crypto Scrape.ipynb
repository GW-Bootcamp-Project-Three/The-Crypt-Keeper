{
 "cells": [
  {
   "cell_type": "code",
   "execution_count": null,
   "metadata": {},
   "outputs": [],
   "source": [
    "import pandas as pd\n",
    "import requests\n",
    "from tkinter import *\n",
    "from splinter import Browser\n",
    "from bs4 import BeautifulSoup\n",
    "from webdriver_manager.chrome import ChromeDriverManager"
   ]
  },
  {
   "cell_type": "code",
   "execution_count": null,
   "metadata": {},
   "outputs": [],
   "source": [
    "# # Setup splinter\n",
    "# executable_path = {'executable_path': ChromeDriverManager().install()}\n",
    "# browser = Browser('chrome', **executable_path, headless=False)"
   ]
  },
  {
   "cell_type": "code",
   "execution_count": null,
   "metadata": {},
   "outputs": [],
   "source": [
    "#Establish URL\n",
    "url = 'https://coinmarketcap.com/'"
   ]
  },
  {
   "cell_type": "code",
   "execution_count": null,
   "metadata": {},
   "outputs": [],
   "source": [
    "# #Say Hi to the URL\n",
    "# browser.visit(url)"
   ]
  },
  {
   "cell_type": "code",
   "execution_count": null,
   "metadata": {},
   "outputs": [],
   "source": [
    "# for x in range(1, 42):\n",
    "\n",
    "#     market = pd.read_html(url)\n",
    "\n",
    "#     browser.find_by_xpath('//*[@id=\"__next\"]/div/div[2]/div/div/div[3]/div/ul/li[8]/a/svg',wait_time=0.5).first.click()"
   ]
  },
  {
   "cell_type": "code",
   "execution_count": null,
   "metadata": {},
   "outputs": [],
   "source": [
    "#Melting Pot\n",
    "markets = pd.read_html(url)"
   ]
  },
  {
   "cell_type": "code",
   "execution_count": null,
   "metadata": {},
   "outputs": [],
   "source": []
  },
  {
   "cell_type": "code",
   "execution_count": null,
   "metadata": {},
   "outputs": [],
   "source": [
    "#Extract Master array of NAMES ONLY for all Cryptos\n",
    "coins = master['Name'].values\n",
    "coins"
   ]
  },
  {
   "cell_type": "code",
   "execution_count": null,
   "metadata": {},
   "outputs": [],
   "source": [
    "#Setting Up Drop Down Function\n",
    "root = Tk()\n",
    "root.geometry( \"200x200\" )\n",
    "def show():\n",
    "    label.config( text = clicked.get() )\n",
    "    \n",
    "options = coins\n",
    "clicked = StringVar()\n",
    "clicked.set('Click Me!')\n",
    "\n",
    "drop = OptionMenu( root, clicked, *options)\n",
    "drop.pack()\n",
    "\n",
    "button = Button(root, text = 'Select This Coin?', command =show).pack()\n",
    "\n",
    "label= Label(root, text = \" \")\n",
    "label.pack()\n",
    "\n",
    "root.mainloop()\n",
    "\n",
    "content = clicked.get()\n",
    "#content\n",
    "crypto = content\n",
    "crypto\n",
    "\n",
    "#Don't Forget to 'x' out of the prompt!"
   ]
  },
  {
   "cell_type": "code",
   "execution_count": null,
   "metadata": {},
   "outputs": [],
   "source": [
    "#Create new URL request\n",
    "exchange = f'https://www.coindesk.com/price/{crypto}'\n",
    "print(exchange)"
   ]
  },
  {
   "cell_type": "code",
   "execution_count": null,
   "metadata": {},
   "outputs": [],
   "source": [
    "#Stir the pot\n",
    "trade = requests.get(exchange)\n",
    "soup = BeautifulSoup(trade.text, 'html.parser')\n",
    "soup"
   ]
  },
  {
   "cell_type": "code",
   "execution_count": null,
   "metadata": {},
   "outputs": [],
   "source": [
    "#You Spin My Head Right Round\n",
    "Title = ''\n",
    "Price = ''\n",
    "Change24 = ''\n",
    "MarketCap = ''\n",
    "Volume = ''\n",
    "Low24 = ''\n",
    "High24 = ''\n",
    "NetChange = ''\n",
    "Open24 = ''\n",
    "AllTimeHigh = ''\n",
    "TotalSupply= ''\n",
    "Returns24 = ''\n",
    "ReturnsYTD = ''\n",
    "Volatility30Day = ''\n",
    "TransactionCount24 = ''\n",
    "AvgTransFee24 = ''\n",
    "ValueTransferred24 = ''\n",
    "About = ''\n",
    "try:\n",
    "    Title = soup.select('div.coin-title .heading')[0].text\n",
    "    Price = soup.select('div.coin-info-block .data-definition')[0].text\n",
    "    Change24 = soup.select('div.coin-info-block .data-definition')[1].text\n",
    "    MarketCap = soup.select('div.coin-info-block .data-definition')[2].text\n",
    "    Volume = soup.select('div.coin-info-block .data-definition')[3].text\n",
    "    Low24 = soup.select('div.coin-info-block .data-definition')[4].text\n",
    "    High24 = soup.select('div.coin-info-block .data-definition')[5].text\n",
    "    Open24 = soup.select('div.coin-info-block .data-definition')[6].text\n",
    "    Open24 = soup.select('div.coin-info-block .data-definition')[7].text \n",
    "    AllTimeHigh = soup.select('div.coin-info-block .data-definition')[8].text\n",
    "    TotalSupply= soup.select('div.coin-info-block .data-definition')[9].text\n",
    "    Returns24 = soup.select('div.coin-info-block .data-definition')[10].text\n",
    "    ReturnsYTD = soup.select('div.coin-info-block .data-definition')[11].text\n",
    "    Volatility30Day = soup.select('div.coin-info-block .data-definition')[12].text\n",
    "    TransactionCount24 = soup.select('div.coin-info-block .data-definition')[13].text\n",
    "    AvgTransFee24 = soup.select('div.coin-info-block .data-definition')[14].text\n",
    "    ValueTransferred24 = soup.select('div.coin-info-block .data-definition')[15].text\n",
    "    About = soup.select('div.coin-about-text')[0].text\n",
    "except:\n",
    "    print('Crypto Not Found')"
   ]
  },
  {
   "cell_type": "code",
   "execution_count": null,
   "metadata": {},
   "outputs": [],
   "source": [
    "#DUMP IT ALL\n",
    "print(f'---------------{Title}--------------------')\n",
    "print(f'Price : {Price}')\n",
    "print(f'24hr % Change : {Change24}')\n",
    "print(f'Market Cap : {MarketCap}')\n",
    "print(f'24hr Volume : {Volume}')\n",
    "print(f'24hr Low : {Low24}')\n",
    "print(f'24hr High : {High24}')\n",
    "print(f'Net Change : {NetChange}')\n",
    "print('---------------Metrics--------------------')\n",
    "print(f'24hr Open : {Open24}')\n",
    "print(f'All Time High : {AllTimeHigh}')\n",
    "print(f'Total Supply : {TotalSupply}')\n",
    "print(f'24hr Returns : {Returns24}')\n",
    "print(f'Year To Date Returns : {ReturnsYTD}')\n",
    "print(f'30 Day Volatility : {Volatility30Day}')\n",
    "print(f'24hr Transaction Count : {TransactionCount24}')\n",
    "print(f'24hr Average Transaction Fee {AvgTransFee24}')\n",
    "print(f'24hr Value Transacted : {ValueTransferred24}')\n",
    "print('---------------About--------------------')\n",
    "print(About)\n",
    "print('---------------Source--------------------')\n",
    "print(url)"
   ]
  },
  {
   "cell_type": "code",
   "execution_count": null,
   "metadata": {},
   "outputs": [],
   "source": []
  },
  {
   "cell_type": "code",
   "execution_count": null,
   "metadata": {},
   "outputs": [],
   "source": []
  },
  {
   "cell_type": "code",
   "execution_count": null,
   "metadata": {},
   "outputs": [],
   "source": []
  },
  {
   "cell_type": "code",
   "execution_count": null,
   "metadata": {},
   "outputs": [],
   "source": []
  }
 ],
 "metadata": {
  "kernelspec": {
   "display_name": "Python 3",
   "language": "python",
   "name": "python3"
  },
  "language_info": {
   "codemirror_mode": {
    "name": "ipython",
    "version": 3
   },
   "file_extension": ".py",
   "mimetype": "text/x-python",
   "name": "python",
   "nbconvert_exporter": "python",
   "pygments_lexer": "ipython3",
   "version": "3.8.3"
  }
 },
 "nbformat": 4,
 "nbformat_minor": 4
}
