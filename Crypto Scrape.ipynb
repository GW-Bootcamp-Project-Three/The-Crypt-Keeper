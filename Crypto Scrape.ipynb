{
 "cells": [
  {
   "cell_type": "code",
   "execution_count": null,
   "metadata": {},
   "outputs": [],
   "source": [
    "import pandas as pd\n",
    "import requests\n",
    "from tkinter import *\n",
    "from splinter import Browser\n",
    "from bs4 import BeautifulSoup\n",
    "from webdriver_manager.chrome import ChromeDriverManager\n",
    "import time"
   ]
  },
  {
   "cell_type": "code",
   "execution_count": null,
   "metadata": {},
   "outputs": [],
   "source": [
    "#Setup splinter\n",
    "executable_path = {'executable_path': ChromeDriverManager().install()}\n",
    "browser = Browser('chrome', **executable_path, headless=False)"
   ]
  },
  {
   "cell_type": "code",
   "execution_count": null,
   "metadata": {},
   "outputs": [],
   "source": [
    "#Establish URL\n",
    "url = 'https://coinmarketcap.com/'"
   ]
  },
  {
   "cell_type": "code",
   "execution_count": null,
   "metadata": {},
   "outputs": [],
   "source": [
    "tokens = []\n",
    "\n",
    "for i in range(1, 43, 1):\n",
    "    loop_url = f'https://coinmarketcap.com/?page={i}'\n",
    "    browser.visit(loop_url)\n",
    "    \n",
    "    for j in range(10):\n",
    "        browser.execute_script(\"window.scrollBy(0,1000);\")\n",
    "        time.sleep(.5)\n",
    "        \n",
    "    html = browser.html\n",
    "    \n",
    "    soup = BeautifulSoup(html, 'html.parser')\n",
    "    \n",
    "    table = soup.find('table', class_='cmc-table')\n",
    "    trs = table.find_all('tr')\n",
    "\n",
    "    for tr in trs:\n",
    "\n",
    "        token = {}\n",
    "\n",
    "        tds = tr.find_all('td')\n",
    "\n",
    "        try:\n",
    "            if tds[2].p is not None:\n",
    "                coin_name = tds[2].p.text\n",
    "                coin_code = tds[2].div.div.div.p.text\n",
    "            else:\n",
    "                coin_name = tds[2].find_all('span')[1].text\n",
    "                coin_code = tds[2].find_all('span')[2].text\n",
    "\n",
    "            coin_price = float(tds[3].text.replace(',','').strip('$'))\n",
    "            coin_24h = float(tds[4].text.strip('%'))\n",
    "            coin_7d = float(tds[5].text.strip('%'))\n",
    "            coin_market_cap = float(tds[6].text.replace(',','').strip('$'))\n",
    "\n",
    "            # from Kick: use this as an example to isolate volume, which is sometimes blank\n",
    "            try:\n",
    "                coin_volume_usd = float(tds[7].find_all('p')[0].text.replace(',','').strip('$'))\n",
    "                coin_volume_crypto_list = tds[7].find_all('p')[1].text.replace(',','').strip('$').split()\n",
    "                coin_volume = float(coin_volume_crypto_list[0])\n",
    "                coin_volume_token = coin_volume_crypto_list[1]\n",
    "            except Exception as e:\n",
    "                i = trs.index(tr)\n",
    "                print(f'Warning: row [{i}] is missing volume.')\n",
    "                coin_volume_usd = None\n",
    "                coin_volume_crypto_list = None\n",
    "                coin_volume = None\n",
    "                coin_volume_token = None\n",
    "\n",
    "            coin_circulating_supply_list = tds[8].text.replace(',','').strip('$').split()\n",
    "            coin_circulating_supply = float(coin_circulating_supply_list[0])\n",
    "            coin_circulating_supply_token = coin_circulating_supply_list[1]\n",
    "\n",
    "            # set up dictionary record\n",
    "            token['token'] = coin_code\n",
    "            token['name'] = coin_name\n",
    "            token['price'] = coin_price\n",
    "            token['24h'] = coin_24h\n",
    "            token['7d'] = coin_7d\n",
    "            token['market_cap'] = coin_market_cap\n",
    "            token['volume_usd'] = coin_volume_usd\n",
    "            token['volume'] = coin_volume\n",
    "            token['circulating_supply'] = coin_circulating_supply\n",
    "\n",
    "            # add to the list of dictionaries\n",
    "            tokens.append(token)\n",
    "\n",
    "        except Exception as e:\n",
    "            i = trs.index(tr)\n",
    "            #print(f'Error with index [{i}] of the tr.')\n",
    "            continue\n",
    "            \n",
    "browser.quit()"
   ]
  },
  {
   "cell_type": "code",
   "execution_count": null,
   "metadata": {},
   "outputs": [],
   "source": [
    "#Create DataFrame\n",
    "token = pd.DataFrame(tokens)\n",
    "token"
   ]
  },
  {
   "cell_type": "code",
   "execution_count": null,
   "metadata": {},
   "outputs": [],
   "source": [
    "#Extract Master array of NAMES ONLY for all Cryptos\n",
    "coins = token['name'].values\n",
    "#coins"
   ]
  },
  {
   "cell_type": "markdown",
   "metadata": {},
   "source": [
    "<h1>Main Currency Query<h1>"
   ]
  },
  {
   "cell_type": "code",
   "execution_count": null,
   "metadata": {},
   "outputs": [],
   "source": [
    "#Setting Up Drop Down Function\n",
    "root = Tk()\n",
    "root.geometry( \"200x200\" )\n",
    "def show():\n",
    "    label.config( text = clicked.get() )\n",
    "    \n",
    "options = coins\n",
    "clicked = StringVar()\n",
    "clicked.set('Click Me!')\n",
    "\n",
    "drop = OptionMenu( root, clicked, *options)\n",
    "drop.pack()\n",
    "\n",
    "button = Button(root, text = 'Select This Coin?', command =show).pack()\n",
    "\n",
    "label= Label(root, text = \" \")\n",
    "label.pack()\n",
    "\n",
    "root.mainloop()\n",
    "\n",
    "content = clicked.get()\n",
    "#content\n",
    "crypto = content\n",
    "crypto\n",
    "\n",
    "#Don't Forget to 'x' out of the prompt!"
   ]
  },
  {
   "cell_type": "code",
   "execution_count": null,
   "metadata": {},
   "outputs": [],
   "source": [
    "#FORMAT QUERY\n",
    "lowercase = str.lower(crypto)\n",
    "formed = lowercase.replace(\" \",\"-\")\n",
    "#formed\n",
    "exchange = f'https://www.coindesk.com/price/{formed}'\n",
    "#exchange"
   ]
  },
  {
   "cell_type": "markdown",
   "metadata": {},
   "source": [
    "<h1>Exchange Information</h1>"
   ]
  },
  {
   "cell_type": "code",
   "execution_count": null,
   "metadata": {},
   "outputs": [],
   "source": [
    "#NEW URL\n",
    "stats = f'https://coinmarketcap.com/currencies/{formed}/'"
   ]
  },
  {
   "cell_type": "code",
   "execution_count": null,
   "metadata": {},
   "outputs": [],
   "source": [
    "#Cooking in the Kitchen\n",
    "analysis = requests.get(stats)\n",
    "broth = BeautifulSoup(analysis.text, 'html.parser')\n",
    "#broth"
   ]
  },
  {
   "cell_type": "code",
   "execution_count": null,
   "metadata": {},
   "outputs": [],
   "source": [
    "#Pulling Tables in HTML\n",
    "tables = broth.findAll('table')\n",
    "#tables"
   ]
  },
  {
   "cell_type": "code",
   "execution_count": null,
   "metadata": {},
   "outputs": [],
   "source": [
    "#First Table\n",
    "first_table_scrape = tables[0]\n",
    "# first_table_scrape\n",
    "first_table_tds = first_table_scrape.find_all('td')\n",
    "#first_table_tds"
   ]
  },
  {
   "cell_type": "code",
   "execution_count": null,
   "metadata": {},
   "outputs": [],
   "source": [
    "#Second Table\n",
    "second_table_scrape = tables[1]\n",
    "#second_table_scrape\n",
    "second_table_tds = second_table_scrape.find_all('td')\n",
    "#second_table_tds"
   ]
  },
  {
   "cell_type": "code",
   "execution_count": null,
   "metadata": {},
   "outputs": [],
   "source": [
    "#Third Table\n",
    "third_table_scrape = tables[2]\n",
    "#third_table_scrape\n",
    "third_table_tds = third_table_scrape.find_all('td')\n",
    "#third_table_tds"
   ]
  },
  {
   "cell_type": "code",
   "execution_count": null,
   "metadata": {},
   "outputs": [],
   "source": [
    "#Fourth Table\n",
    "fourth_table_scrape = tables[3]\n",
    "#fourth_table_scrape\n",
    "fourth_table_tds = fourth_table_scrape.find_all('td')\n",
    "#fourth_table_tds"
   ]
  },
  {
   "cell_type": "code",
   "execution_count": null,
   "metadata": {},
   "outputs": [],
   "source": [
    "#Fifth Table\n",
    "fifth_table_scrape = tables[4]\n",
    "#fifth_table_scrape\n",
    "fifth_table_tds = fifth_table_scrape.find_all('td')\n",
    "#fifth_table_tds"
   ]
  },
  {
   "cell_type": "code",
   "execution_count": null,
   "metadata": {},
   "outputs": [],
   "source": [
    "#Pull ABOUT Narrative\n",
    "texts = broth.select('div.about___1OuKY')\n",
    "#texts"
   ]
  },
  {
   "cell_type": "code",
   "execution_count": null,
   "metadata": {},
   "outputs": [],
   "source": [
    "#Token Pull\n",
    "code = broth.findAll('div', class_='sc-16r8icm-0 fCTazK nameHeader___27HU_')[0].find_all('small')[0].getText()"
   ]
  },
  {
   "cell_type": "code",
   "execution_count": null,
   "metadata": {},
   "outputs": [],
   "source": [
    "#Establishing List\n",
    "tables = []\n",
    "\n",
    "#Creating the Dictionary\n",
    "table = {}\n",
    "\n",
    "#First Table\n",
    "price = first_table_tds[0].get_text()\n",
    "pricechange24hr = first_table_tds[1].find_all('span')[0].get_text()\n",
    "percentchange24hr = first_table_tds[1].find_all('span')[1].get_text()\n",
    "low24hr = first_table_tds[2].find_all('div')[0].get_text().split(' /')[0]\n",
    "high24hr = first_table_tds[2].find_all('div')[1].get_text().split(' /')[0]\n",
    "tradingvolume = first_table_tds[3].find_all('span')[0].get_text()\n",
    "tradingvolumepercdelta = first_table_tds[3].find_all('span')[1].get_text()\n",
    "marketdominance = first_table_tds[4].find_all('span')[0].get_text()\n",
    "marketrank = first_table_tds[5].get_text().split('#')[1]\n",
    "\n",
    "#Second Table\n",
    "marketcap = second_table_tds[0].find_all('span')[0].get_text()\n",
    "fullydiluted = second_table_tds[1].find_all('span')[0].get_text()\n",
    "\n",
    "#Third Table\n",
    "yestlow = third_table_tds[0].find_all('div')[0].get_text().split(' /')[0]\n",
    "yesthigh = third_table_tds[0].find_all('div')[1].get_text().split(' /')[0]\n",
    "yestopen = third_table_tds[1].find_all('div')[0].get_text().split(' /')[0]\n",
    "yestclose = third_table_tds[1].find_all('div')[1].get_text().split(' /')[0]\n",
    "yestvol = third_table_tds[3].get_text()\n",
    "\n",
    "#Fourth Table\n",
    "d7low = fourth_table_tds[0].find_all('div')[0].get_text().split(' /')[0]\n",
    "d7high = fourth_table_tds[0].find_all('div')[1].get_text().split(' /')[0]\n",
    "d30low = fourth_table_tds[1].find_all('div')[0].get_text().split(' /')[0]\n",
    "d30high = fourth_table_tds[1].find_all('div')[1].get_text().split(' /')[0]\n",
    "d90low = fourth_table_tds[2].find_all('div')[0].get_text().split(' /')[0]\n",
    "d90high = fourth_table_tds[2].find_all('div')[1].get_text().split(' /')[0]\n",
    "wk52low = fourth_table_tds[3].find_all('div')[0].get_text().split(' /')[0]\n",
    "wk52high = fourth_table_tds[3].find_all('div')[1].get_text().split(' /')[0]\n",
    "alltimehigh = fourth_table_tds[4].find_all('span')[0].get_text()\n",
    "alltimehighperc = fourth_table_tds[4].find_all('span')[1].get_text()\n",
    "alltimelow = fourth_table_tds[5].find_all('span')[0].get_text()\n",
    "alltimelowperc = fourth_table_tds[5].find_all('span')[1].get_text()\n",
    "\n",
    "#Fifth Table\n",
    "circsupp = fifth_table_tds[0].get_text()\n",
    "totsupp = fifth_table_tds[1].get_text()\n",
    "mxsupp = fifth_table_tds[2].get_text()\n",
    "\n",
    "#Narrative\n",
    "intro1 = texts[1].find_all('p')[0].get_text()\n",
    "intro2 = texts[1].find_all('p')[1].get_text()\n",
    "fullintro = f'{intro1}{intro2}'\n",
    "\n",
    "#Building the Dictionary\n",
    "table['Code'] = code\n",
    "table['Price'] = price\n",
    "table['24hr Price Change'] = pricechange24hr\n",
    "table['24hr % Change'] = percentchange24hr\n",
    "table['24hr Low'] = low24hr\n",
    "table['24hr High'] = high24hr\n",
    "table['24hr Trading Volume'] = tradingvolume\n",
    "table['24hr Trading Volume % Change'] = tradingvolumepercdelta\n",
    "table['Market Dominance'] = marketdominance\n",
    "table['Market Rank'] = marketrank\n",
    "table['Market Cap'] = marketcap\n",
    "table['Fully Diluted Market Cap'] = fullydiluted\n",
    "table['Yesterday Low'] = yestlow\n",
    "table['Yesterday High'] = yesthigh\n",
    "table['Yesterday Open'] = yestopen\n",
    "table['Yesterday Close'] = yestclose\n",
    "table['Yesterday Volume'] = yestvol\n",
    "table['7 Day Low'] = d7low\n",
    "table['7 Day High'] = d7high\n",
    "table['30 Day Low'] = d30low\n",
    "table['30 Day High'] = d30high\n",
    "table['90 Day Low'] = d90low\n",
    "table['90 Day High'] = d90high\n",
    "table['52 Week Low'] = wk52low\n",
    "table['52 Week High'] = wk52high\n",
    "table['All Time High'] = alltimehigh\n",
    "table['All Time High %'] = alltimehighperc\n",
    "table['All Time Low'] = alltimelow\n",
    "table['All Time Low %'] = alltimelowperc\n",
    "table['Cirulating Supply'] = circsupp\n",
    "table['Total Supply'] = totsupp\n",
    "table['Max Supply'] = mxsupp\n",
    "table[\"About\"] = fullintro\n",
    "table['Link'] = stats\n",
    "\n",
    "#Appending\n",
    "tables.append(table)\n",
    "\n",
    "#Print Final Dictionary\n",
    "tables"
   ]
  },
  {
   "cell_type": "code",
   "execution_count": null,
   "metadata": {},
   "outputs": [],
   "source": [
    "#LOGO PHOTO\n",
    "lc_code = str.lower(code)\n",
    "snap = f'https://cryptologos.cc/logos/{formed}-{lc_code}-logo.png?v=010'\n",
    "print(snap)"
   ]
  },
  {
   "cell_type": "markdown",
   "metadata": {},
   "source": [
    "<h1>Market Purchase Information</h1>"
   ]
  },
  {
   "cell_type": "code",
   "execution_count": null,
   "metadata": {},
   "outputs": [],
   "source": [
    "#NEW URL\n",
    "markets = f'https://coinmarketcap.com/currencies/{formed}/markets/'"
   ]
  },
  {
   "cell_type": "code",
   "execution_count": null,
   "metadata": {},
   "outputs": [],
   "source": [
    "#Cooking in the Kitchen\n",
    "whereto = requests.get(markets)\n",
    "bisque = BeautifulSoup(whereto.text, 'html.parser')\n",
    "#bisque"
   ]
  },
  {
   "cell_type": "code",
   "execution_count": null,
   "metadata": {},
   "outputs": [],
   "source": [
    "#Pulling Tables in HTML\n",
    "frames = bisque.findAll('table')\n",
    "board = frames[0]\n",
    "#board"
   ]
  },
  {
   "cell_type": "code",
   "execution_count": null,
   "metadata": {},
   "outputs": [],
   "source": [
    "#Setting up trs -- remember to skip [0] tr since it's a header\n",
    "board_trs = board.find_all('tr')\n",
    "#board_trs"
   ]
  },
  {
   "cell_type": "code",
   "execution_count": null,
   "metadata": {},
   "outputs": [],
   "source": [
    "#Top 100 Crypto Markets for Query\n",
    "guides = []\n",
    "\n",
    "for i in range(1,101,1):\n",
    "    \n",
    "    tds = board_trs[i].find_all('td')\n",
    "\n",
    "    guide = {}\n",
    "\n",
    "    source = tds[1].find_all('p')[0].getText()\n",
    "    pairs = tds[2].find_all('a')[0].getText()\n",
    "    web = tds[2].find_all('a')[0].get('href')\n",
    "    price = tds[3].get_text()\n",
    "    volume = tds[4].find_all('p')[0].getText()\n",
    "    volumeperc = tds[5].find_all('div')[0].get_text()\n",
    "    liquid = tds[6].find_all('p')[0].getText()\n",
    "    confidence = tds[7].find_all('div')[0].get_text()\n",
    "    updated = tds[8].find_all('p')[0].getText()\n",
    "\n",
    "    guide['Source'] = source\n",
    "    guide['Currency'] = pairs\n",
    "    guide['URL'] = web\n",
    "    guide['Price'] = price\n",
    "    guide['Volume'] = volume\n",
    "    guide['Volume %'] = volumeperc\n",
    "    guide['Liquidity'] = liquid\n",
    "    guide['Confidence'] = confidence\n",
    "    guide['Last Updated'] = updated\n",
    "\n",
    "    guides.append(guide)\n",
    "\n",
    "#guides\n",
    "blackmarket = pd.DataFrame(guides)\n",
    "blackmarket"
   ]
  },
  {
   "cell_type": "markdown",
   "metadata": {},
   "source": [
    "<h1>Historical Data</h1>"
   ]
  },
  {
   "cell_type": "code",
   "execution_count": null,
   "metadata": {},
   "outputs": [],
   "source": [
    "#NEW URL - Creating Date List\n",
    "dates = 'https://coinmarketcap.com/historical/'"
   ]
  },
  {
   "cell_type": "code",
   "execution_count": null,
   "metadata": {},
   "outputs": [],
   "source": [
    "#Cooking in the Kitchen\n",
    "select = requests.get(dates)\n",
    "pho = BeautifulSoup(select.text, 'html.parser')\n",
    "#pho"
   ]
  },
  {
   "cell_type": "code",
   "execution_count": null,
   "metadata": {},
   "outputs": [],
   "source": [
    "#Pull history of all dates\n",
    "links = pho.find_all('div',class_='cmc-bottom-margin-2x')[0].find_all('a',class_='historical-link cmc-link')\n",
    "#links"
   ]
  },
  {
   "cell_type": "code",
   "execution_count": null,
   "metadata": {},
   "outputs": [],
   "source": [
    "#Create DataFrame\n",
    "dates = []\n",
    "\n",
    "for l in range(36,len(links),1):\n",
    "    \n",
    "    date = {}\n",
    "    \n",
    "    nums=links[l].get('href').split(\"/\")[2]\n",
    "    \n",
    "    date['Raw'] = nums\n",
    "\n",
    "    dates.append(date)\n",
    "    \n",
    "timeline = pd.DataFrame(dates)\n",
    "#timeline"
   ]
  },
  {
   "cell_type": "code",
   "execution_count": null,
   "metadata": {},
   "outputs": [],
   "source": [
    "#Reformat DataFrame\n",
    "timeline['Form'] = timeline['Raw'].astype(str)\n",
    "timeline['Day'] = timeline['Form'].str[6:8]\n",
    "timeline['Month'] = timeline['Form'].str[4:6]\n",
    "timeline['Year'] = timeline['Form'].str[0:4]\n",
    "timeline.drop('Form', axis=1, inplace=True)\n",
    "#timeline"
   ]
  },
  {
   "cell_type": "code",
   "execution_count": null,
   "metadata": {},
   "outputs": [],
   "source": [
    "#Add the Query column to the DataFrame\n",
    "timeline[\"Query\"] = timeline[\"Month\"] + \"/\" + timeline[\"Day\"] + \"/\" + timeline[\"Year\"]\n",
    "#timeline\n",
    "specs = timeline['Query'].values\n",
    "#specs"
   ]
  },
  {
   "cell_type": "code",
   "execution_count": null,
   "metadata": {},
   "outputs": [],
   "source": [
    "#Create a Date select function\n",
    "root = Tk()\n",
    "root.geometry( \"200x200\" )\n",
    "def show():\n",
    "    label.config( text = clicked.get() )\n",
    "    \n",
    "options = specs\n",
    "clicked = StringVar()\n",
    "clicked.set('Click Me!')\n",
    "\n",
    "drop = OptionMenu( root, clicked, *options)\n",
    "drop.pack()\n",
    "\n",
    "button = Button(root, text = 'Select This Date?', command =show).pack()\n",
    "\n",
    "label= Label(root, text = \" \")\n",
    "label.pack()\n",
    "\n",
    "root.mainloop()\n",
    "\n",
    "content = clicked.get()\n",
    "#content\n",
    "birth = content\n",
    "birth\n",
    "\n",
    "#Don't Forget to 'x' out of the prompt!"
   ]
  },
  {
   "cell_type": "code",
   "execution_count": null,
   "metadata": {},
   "outputs": [],
   "source": [
    "#Reformat the User Input for URL variable\n",
    "reform = birth.split('/')\n",
    "history_input = f'{reform[2]}{reform[0]}{reform[1]}'\n",
    "#history_input"
   ]
  },
  {
   "cell_type": "code",
   "execution_count": null,
   "metadata": {},
   "outputs": [],
   "source": [
    "#NEW URL\n",
    "history = f'https://coinmarketcap.com/historical/{history_input}/'\n",
    "#print(history)"
   ]
  },
  {
   "cell_type": "code",
   "execution_count": null,
   "metadata": {},
   "outputs": [],
   "source": [
    "#Cooking in the Kitchen\n",
    "story = requests.get(history)\n",
    "chowder = BeautifulSoup(story.text, 'html.parser')\n",
    "#chowder"
   ]
  },
  {
   "cell_type": "code",
   "execution_count": null,
   "metadata": {},
   "outputs": [],
   "source": [
    "#Dive into the table\n",
    "exhibits = chowder.findAll('tbody')\n",
    "itinerary = exhibits[0]\n",
    "#itinerary"
   ]
  },
  {
   "cell_type": "code",
   "execution_count": null,
   "metadata": {},
   "outputs": [],
   "source": [
    "#Locate table data\n",
    "itinerary_trs = itinerary.find_all('tr')\n",
    "#itinerary_trs"
   ]
  },
  {
   "cell_type": "code",
   "execution_count": null,
   "metadata": {},
   "outputs": [],
   "source": [
    "#Max of Top 200 Crypto Histories\n",
    "logs = []\n",
    "\n",
    "for w in range(0,len(itinerary),1):\n",
    "    \n",
    "    tds = itinerary_trs[w].find_all('td')\n",
    "\n",
    "    log = {}\n",
    "\n",
    "    rank = tds[0].find_all('div')[0].get_text()\n",
    "    name = tds[1].find_all('a')[0].getText()\n",
    "    symbol = tds[2].find_all('div')[0].get_text()\n",
    "    marketcap = tds[3].find_all('p')[0].getText()\n",
    "    price = tds[4].find_all('a')[0].getText()\n",
    "    circsupp = tds[5].find_all('div')[0].get_text()\n",
    "    vol24h = tds[6].find_all('a')[0].getText()\n",
    "    p1h = tds[7].find_all('div')[0].get_text()\n",
    "    p24h = tds[8].find_all('div')[0].get_text()\n",
    "    p7d = tds[9].find_all('div')[0].get_text()\n",
    "\n",
    "    log['Rank'] = rank\n",
    "    log['Name'] = name\n",
    "    log['Symbol'] = symbol\n",
    "    log['Market Cap'] = marketcap\n",
    "    log['Price'] = price\n",
    "    log['Circulating Supply'] = circsupp\n",
    "    log['1 Hour Percent Change'] = p1h\n",
    "    log['24 Hour Percent Change'] = p24h\n",
    "    log['7 Day Percent Change'] = p7d\n",
    "    \n",
    "\n",
    "    logs.append(log)\n",
    "\n",
    "#logs\n",
    "print(f'-------------Historical Snapshot for NAME OF CRYPTO on {birth}-------------')\n",
    "textbook = pd.DataFrame(logs)\n",
    "textbook.head()"
   ]
  },
  {
   "cell_type": "markdown",
   "metadata": {},
   "source": [
    "<h1>Tweepy</h1>"
   ]
  },
  {
   "cell_type": "code",
   "execution_count": null,
   "metadata": {},
   "outputs": [],
   "source": [
    "import tweepy\n",
    "import json\n",
    "from config import Consumer_Key, Consumer_Secret, Access_Token, Access_Token_Secret"
   ]
  },
  {
   "cell_type": "code",
   "execution_count": null,
   "metadata": {},
   "outputs": [],
   "source": [
    "#Establishing API - REMEMBER TO CHANGE SEARCH TERM\n",
    "auth = tweepy.OAuthHandler(Consumer_Key,Consumer_Secret)\n",
    "auth.set_access_token(Access_Token,Access_Token_Secret)\n",
    "api = tweepy.API(auth, parser=tweepy.parsers.JSONParser())\n",
    "#30 Day Analysis\n",
    "tokes = api.search_30_day('month','bitcoin')\n",
    "#tokes"
   ]
  },
  {
   "cell_type": "code",
   "execution_count": null,
   "metadata": {},
   "outputs": [],
   "source": [
    "#Testing Pull\n",
    "results = tokes['results']\n",
    "#len(results)\n",
    "#results"
   ]
  },
  {
   "cell_type": "code",
   "execution_count": null,
   "metadata": {},
   "outputs": [],
   "source": [
    "#30 Day DataFrame\n",
    "tweets = []\n",
    "\n",
    "for r in results:\n",
    "    \n",
    "    tweet = {}\n",
    "    \n",
    "\n",
    "    dates = r['created_at'].split(\" \")\n",
    "    date = dates[0] + \"., \" + dates[1] + \". \" + dates[2]\n",
    "    text = r['text']\n",
    "    location = r['user']['location']\n",
    "    description = r['user']['description']\n",
    "    favs = r['user']['favourites_count']\n",
    "    screen = r['user']['screen_name']\n",
    "    \n",
    "    tweet['Screen Name'] = f'@{screen}'\n",
    "    tweet['Date'] = date\n",
    "    tweet['Text'] = text\n",
    "    tweet['Location'] = location\n",
    "    tweet['Description'] = description\n",
    "    tweet['Favorited'] = favs\n",
    "    \n",
    "    tweets.append(tweet)\n",
    "\n",
    "#tweets\n",
    "bird = pd.DataFrame(tweets)\n",
    "bird.head()"
   ]
  },
  {
   "cell_type": "code",
   "execution_count": null,
   "metadata": {},
   "outputs": [],
   "source": [
    "#Full Search\n",
    "full = api.search('bitcoin')\n",
    "#full"
   ]
  },
  {
   "cell_type": "code",
   "execution_count": null,
   "metadata": {},
   "outputs": [],
   "source": [
    "#Testing Pull\n",
    "series = full['statuses']\n",
    "#len(series)\n",
    "#series"
   ]
  },
  {
   "cell_type": "code",
   "execution_count": null,
   "metadata": {},
   "outputs": [],
   "source": [
    "#Full Search DataFrame\n",
    "steps = []\n",
    "\n",
    "for s in series:\n",
    "    \n",
    "    step = {}\n",
    "    \n",
    "\n",
    "    dates = s['created_at'].split(\" \")\n",
    "    date = dates[0] + \"., \" + dates[1] + \". \" + dates[2]\n",
    "    text = s['text']\n",
    "    location = s['user']['location']\n",
    "    description = s['user']['description']\n",
    "    favs = s['user']['favourites_count']\n",
    "    screen = s['user']['screen_name']\n",
    "    \n",
    "    step['Screen Name'] = f'@{screen}'\n",
    "    step['Date'] = date\n",
    "    step['Text'] = text\n",
    "    step['Location'] = location\n",
    "    step['Description'] = description\n",
    "    step['Favorited'] = favs\n",
    "    \n",
    "    steps.append(step)\n",
    "\n",
    "#steps\n",
    "wing = pd.DataFrame(steps)\n",
    "wing.head()"
   ]
  }
 ],
 "metadata": {
  "kernelspec": {
   "display_name": "Python 3",
   "language": "python",
   "name": "python3"
  },
  "language_info": {
   "codemirror_mode": {
    "name": "ipython",
    "version": 3
   },
   "file_extension": ".py",
   "mimetype": "text/x-python",
   "name": "python",
   "nbconvert_exporter": "python",
   "pygments_lexer": "ipython3",
   "version": "3.8.5"
  }
 },
 "nbformat": 4,
 "nbformat_minor": 4
}
