{
 "cells": [
  {
   "cell_type": "code",
   "execution_count": null,
   "metadata": {},
   "outputs": [],
   "source": [
    "#Main Dependencies\n",
    "import pandas as pd\n",
    "import requests\n",
    "from bs4 import BeautifulSoup"
   ]
  },
  {
   "cell_type": "code",
   "execution_count": null,
   "metadata": {},
   "outputs": [],
   "source": [
    "degrees = ['https://www.bitdegree.org/crypto/coinbase-review', 'https://www.bitdegree.org/crypto/binance-review', 'https://www.bitdegree.org/crypto/coinmama-review', 'https://www.bitdegree.org/crypto/kraken-review', 'https://www.bitdegree.org/crypto/etoro-review', 'https://www.bitdegree.org/crypto/kucoin-review', 'https://www.bitdegree.org/crypto/bittrex-review', 'https://www.bitdegree.org/crypto/poloniex-review', 'https://www.bitdegree.org/crypto/simplex-review', 'https://www.bitdegree.org/crypto/bithumb-review', 'https://www.bitdegree.org/crypto/gdax-review', 'https://www.bitdegree.org/crypto/changelly-review', 'https://www.bitdegree.org/crypto/kriptomat-review', 'https://www.bitdegree.org/crypto/coinexchange-review', 'https://www.bitdegree.org/crypto/prime-xbt-review', 'https://www.bitdegree.org/crypto/plus500-review', 'https://www.bitdegree.org/crypto/alfacash-review', 'https://www.bitdegree.org/crypto/bitbuy-review', 'https://www.bitdegree.org/crypto/just2trade-review', 'https://www.bitdegree.org/crypto/admiral-markets-review', 'https://www.bitdegree.org/crypto/wirex-review']\n",
    "#len(degrees)"
   ]
  },
  {
   "cell_type": "code",
   "execution_count": null,
   "metadata": {},
   "outputs": [],
   "source": [
    "where = []\n",
    "for d in range(0,len(degrees),1):\n",
    "    url = requests.get(degrees[d])\n",
    "    bone = BeautifulSoup(url.text, 'html.parser')\n",
    "    \n",
    "    wheres={}\n",
    "    \n",
    "    name = bone.findAll('div',class_='col-12 col-lg-11 banner-content text-center')[0].findAll('h1')[0].getText().split(\" \")[0].split('\\xa0Review')[0]\n",
    "    try:\n",
    "        score = bone.findAll('span',class_='score')[0].getText()\n",
    "    except:\n",
    "        score = 'No Rating Available'\n",
    "    \n",
    "    wheres['Name'] = name\n",
    "    wheres['Score'] = score   \n",
    "    \n",
    "    try:\n",
    "        pros = bone.findAll('ul',class_='pros-list pt-2 px-0')[0].findAll('li')\n",
    "        for p in range(0,len(pros),1):\n",
    "            pro = pros[p].getText().split('+ ')[1]\n",
    "    except:\n",
    "        pro = 'No Information Available'\n",
    "    \n",
    "    wheres['Pros'] = pro\n",
    "    \n",
    "    try:\n",
    "        cons = bone.findAll('ul',class_='cons-list pt-2 px-0')[0].findAll('li')\n",
    "        for c in range(0,len(cons),1):\n",
    "            con = cons[c].getText().split('- ')[1]\n",
    "    except:\n",
    "        con = 'No Information Available'\n",
    "    \n",
    "    wheres['Cons'] = con\n",
    "    \n",
    "    try:\n",
    "        link = bone.findAll('div',class_='col-12 col-lg-11 banner-content text-center')[0].findAll('a',href=True)[0]['onclick'].split(\"='\")[1].split(\"'\")[0]\n",
    "    except:\n",
    "        link = 'No Link Available'\n",
    "        \n",
    "    wheres['Link'] = link\n",
    "    \n",
    "    try:\n",
    "        logo = bone.findAll('div',class_='col-12 col-md-3 p-0 review-logo')[0].findAll('img')[0]['data-src']\n",
    "    except:\n",
    "        logo = 'No Logo Available'\n",
    "        \n",
    "    wheres['logo'] = logo\n",
    "    \n",
    "    where.append(wheres)\n",
    "    \n",
    "#where\n",
    "exchange = pd.DataFrame(where)\n",
    "exchange"
   ]
  },
  {
   "cell_type": "code",
   "execution_count": null,
   "metadata": {},
   "outputs": [],
   "source": [
    "#Export to JSON\n",
    "import csv\n",
    "import json\n",
    "\n",
    "def make_json(csvFilePath, jsonFilePath):\n",
    "\n",
    "    data = {}\n",
    "     \n",
    "    with open(csvFilePath, encoding='utf-8') as csvf:\n",
    "        csvReader = csv.DictReader(csvf)\n",
    "         \n",
    "        for rows in csvReader:\n",
    "\n",
    "            key = rows['Name']\n",
    "            data[key] = rows\n",
    "\n",
    "    with open(jsonFilePath, 'w', encoding='utf-8') as jsonf:\n",
    "        jsonf.write(json.dumps(data, indent=4))\n",
    "         \n",
    "csvFilePath = r'BitDegree.csv'\n",
    "jsonFilePath = r'BitDegree.json'\n",
    " \n",
    "make_json(csvFilePath, jsonFilePath)"
   ]
  },
  {
   "cell_type": "code",
   "execution_count": null,
   "metadata": {},
   "outputs": [],
   "source": []
  }
 ],
 "metadata": {
  "kernelspec": {
   "display_name": "Python 3",
   "language": "python",
   "name": "python3"
  },
  "language_info": {
   "codemirror_mode": {
    "name": "ipython",
    "version": 3
   },
   "file_extension": ".py",
   "mimetype": "text/x-python",
   "name": "python",
   "nbconvert_exporter": "python",
   "pygments_lexer": "ipython3",
   "version": "3.8.3"
  }
 },
 "nbformat": 4,
 "nbformat_minor": 4
}
