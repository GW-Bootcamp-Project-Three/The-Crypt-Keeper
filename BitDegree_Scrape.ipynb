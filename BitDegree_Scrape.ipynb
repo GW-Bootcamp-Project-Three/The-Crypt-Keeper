{
 "cells": [
  {
   "cell_type": "code",
   "execution_count": null,
   "metadata": {},
   "outputs": [],
   "source": [
    "#Main Dependencies\n",
    "import pandas as pd\n",
    "import requests\n",
    "from bs4 import BeautifulSoup"
   ]
  },
  {
   "cell_type": "code",
   "execution_count": null,
   "metadata": {},
   "outputs": [],
   "source": [
    "degrees = ['https://www.bitdegree.org/crypto/coinbase-review', 'https://www.bitdegree.org/crypto/binance-review', 'https://www.bitdegree.org/crypto/coinmama-review', 'https://www.bitdegree.org/crypto/kraken-review', 'https://www.bitdegree.org/crypto/etoro-review', 'https://www.bitdegree.org/crypto/kucoin-review', 'https://www.bitdegree.org/crypto/bittrex-review', 'https://www.bitdegree.org/crypto/poloniex-review', 'https://www.bitdegree.org/crypto/simplex-review', 'https://www.bitdegree.org/crypto/bithumb-review', 'https://www.bitdegree.org/crypto/gdax-review', 'https://www.bitdegree.org/crypto/changelly-review', 'https://www.bitdegree.org/crypto/kriptomat-review', 'https://www.bitdegree.org/crypto/coinexchange-review', 'https://www.bitdegree.org/crypto/prime-xbt-review', 'https://www.bitdegree.org/crypto/plus500-review', 'https://www.bitdegree.org/crypto/alfacash-review', 'https://www.bitdegree.org/crypto/bitbuy-review', 'https://www.bitdegree.org/crypto/just2trade-review', 'https://www.bitdegree.org/crypto/admiral-markets-review', 'https://www.bitdegree.org/crypto/wirex-review']\n",
    "#len(degrees)"
   ]
  },
  {
   "cell_type": "code",
   "execution_count": null,
   "metadata": {},
   "outputs": [],
   "source": [
    "where = []\n",
    "for d in range(0,len(degrees),1):\n",
    "    url = requests.get(degrees[d])\n",
    "    bone = BeautifulSoup(url.text, 'html.parser')\n",
    "    \n",
    "    wheres={}\n",
    "    \n",
    "    name = bone.findAll('div',class_='col-12 col-lg-11 banner-content text-center')[0].findAll('h1')[0].getText().split(\" \")[0].split('\\xa0Review')[0]\n",
    "    try:\n",
    "        score = bone.findAll('span',class_='score')[0].getText()\n",
    "    except:\n",
    "        score = 'No Rating Available'\n",
    "    \n",
    "    wheres['Name'] = name\n",
    "    wheres['Score'] = score   \n",
    "    \n",
    "    try:\n",
    "        pros = bone.findAll('ul',class_='pros-list pt-2 px-0')[0].findAll('li')\n",
    "        for p in range(0,len(pros),1):\n",
    "            pro = pros[p].getText().split('+ ')[1]\n",
    "    except:\n",
    "        pro = 'No Information Available'\n",
    "    \n",
    "    wheres['Pros'] = pro\n",
    "    \n",
    "    try:\n",
    "        cons = bone.findAll('ul',class_='cons-list pt-2 px-0')[0].findAll('li')\n",
    "        for c in range(0,len(cons),1):\n",
    "            con = cons[c].getText().split('- ')[1]\n",
    "    except:\n",
    "        con = 'No Information Available'\n",
    "    \n",
    "    wheres['Cons'] = con\n",
    "    \n",
    "    try:\n",
    "        logo = bone.findAll('div',class_='text-center pb-4')[0].findAll('img')[0]['data-src']\n",
    "    except:\n",
    "        logo = 'No Logo Available'\n",
    "        \n",
    "    wheres['logo'] = logo\n",
    "    \n",
    "    where.append(wheres)\n",
    "    \n",
    "#where\n",
    "exchange = pd.DataFrame(where)\n",
    "exchange"
   ]
  },
  {
   "cell_type": "code",
   "execution_count": null,
   "metadata": {},
   "outputs": [],
   "source": [
    "#Manually Added Links\n",
    "exchange['Link'] = \"\"\n",
    "exchange['Link'] = ['https://www.coinbase.com/','https://www.binance.com/en','https://www.coinmama.com/','https://www.kraken.com/','https://www.etoro.com/en-us/','https://www.kucoin.com/','https://bittrex.com/','https://poloniex.com/','https://www.simplex.com/','https://en.bithumb.com/','https://pro.coinbase.com/','https://changelly.com/','https://kriptomat.io/','https://www.coinex.com/?lang=en_US','https://primexbt.com/?signup=345106','https://www.plus500.com/','https://www.alfa.cash/','https://bitbuy.ca/en/sign-up?__cf_chl_captcha_tk__=df1cff5d78c8aadbba612d56369d7448839a3d46-1615850121-0-AU2551SZ9Du3KOlqDvZwqctLqS3HeZz0c0PA3qk_v2tGSSuMs1YFSXvmi_k9DWiiZk7z5nkOyZW_fm-vHwX15iD-ng2TBbsUBVagA4_x0GMtUlfBBTdLxYfoMuotIOCc0yq0Q28L4hHv33JLSevkFne03JlT7aQKRmSabaB9UtV8bzzywY7l5s9PsO9r3tPKBikiGzybdH7bnIHyJe8UvcA5l-RBpldoA67rNCJhETJar-3zq51H80Shh9BqaMpRCpX74wJ1W5IldG_N9Dj8rWbNSvH49Ge_oDrIjsaWtBu5m3bj59A36tEDAGCqBlMHhpoC0LbTGbPqUgtIXzlEqocOQUuGUJCaL58aAauk4cnPvo8C7zQcD9-Id8X_G9KfpPjkHY6pLWlhfy736gNa0wP8MHQaY5Rt1aq7u8dc-BpOq0hgxYGialiqzjOmLnYKZ9MzBe5LerpnwCDBaHbbXE7cLgnd9QENr5f-33cwKI1UhnX_8cCF1YB4NIaBoiz559MD-pAfAtLyK-FZrgj2G0oWNvx3r1id4YY9v0Nlhny3','https://just2trade.online/en/','https://admiralmarkets.com/','https://wirexapp.com/en']\n",
    "exchange"
   ]
  },
  {
   "cell_type": "code",
   "execution_count": null,
   "metadata": {},
   "outputs": [],
   "source": [
    "#Export to JSON\n",
    "import csv\n",
    "import json\n",
    "\n",
    "def make_json(csvFilePath, jsonFilePath):\n",
    "\n",
    "    data = {}\n",
    "     \n",
    "    with open(csvFilePath, encoding='utf-8') as csvf:\n",
    "        csvReader = csv.DictReader(csvf)\n",
    "         \n",
    "        for rows in csvReader:\n",
    "\n",
    "            key = rows['Name']\n",
    "            data[key] = rows\n",
    "\n",
    "    with open(jsonFilePath, 'w', encoding='utf-8') as jsonf:\n",
    "        jsonf.write(json.dumps(data, indent=4))\n",
    "         \n",
    "csvFilePath = r'BitDegree.csv'\n",
    "jsonFilePath = r'BitDegree.json'\n",
    " \n",
    "make_json(csvFilePath, jsonFilePath)"
   ]
  },
  {
   "cell_type": "code",
   "execution_count": null,
   "metadata": {},
   "outputs": [],
   "source": []
  }
 ],
 "metadata": {
  "kernelspec": {
   "display_name": "Python 3",
   "language": "python",
   "name": "python3"
  },
  "language_info": {
   "codemirror_mode": {
    "name": "ipython",
    "version": 3
   },
   "file_extension": ".py",
   "mimetype": "text/x-python",
   "name": "python",
   "nbconvert_exporter": "python",
   "pygments_lexer": "ipython3",
   "version": "3.8.3"
  }
 },
 "nbformat": 4,
 "nbformat_minor": 4
}
